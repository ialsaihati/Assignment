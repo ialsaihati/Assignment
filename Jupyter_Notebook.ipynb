{
 "cells": [
  {
   "cell_type": "markdown",
   "metadata": {},
   "source": [
    "<center>\n",
    "    <img src=\"https://cf-courses-data.s3.us.cloud-object-storage.appdomain.cloud/IBMDeveloperSkillsNetwork-DS0105EN-SkillsNetwork/labs/Module2/images/SN_web_lightmode.png\" width=\"300\" alt=\"cognitiveclass.ai logo\">\n",
    "</center>\n"
   ]
  },
  {
   "cell_type": "markdown",
   "metadata": {},
   "source": [
    "#### Add your code below following the instructions given in the course\n"
   ]
  },
  {
   "cell_type": "markdown",
   "metadata": {},
   "source": [
    "##Data Science Tools and Ecosystem   "
   ]
  },
  {
   "cell_type": "markdown",
   "metadata": {},
   "source": [
    "## Objectives:\n",
    "\n",
    "- List popular languages for Data Science.\n",
    "- Introduce commonly used libraries in Data Science.\n",
    "- Explore key concepts in machine learning.\n",
    "- Demonstrate data manipulation techniques.\n",
    "- Showcase data visualization methods.\n"
   ]
  },
  {
   "cell_type": "markdown",
   "metadata": {},
   "source": [
    "## In this notebook, Data Science Tools and Ecosystem are summarized."
   ]
  },
  {
   "cell_type": "markdown",
   "metadata": {},
   "source": [
    "\n",
    "Some of the popular languages that Data Scientists use are:\n",
    "\n",
    "Python\n",
    "R\n",
    "SQL\n",
    "Java\n",
    "Scala\n",
    "MATLAB\n",
    "Julia\n",
    "These languages are commonly used for data analysis, machine learning, statistical modeling, and other tasks in data science."
   ]
  },
  {
   "cell_type": "markdown",
   "metadata": {},
   "source": [
    "Some of the commonly used libraries used by Data Scientists include:\n",
    "\n",
    "NumPy: Numerical Python, provides support for numerical computing and arrays.\n",
    "pandas: Data manipulation and analysis library, providing data structures like DataFrame.\n",
    "Matplotlib: Plotting library for creating static, interactive, and animated visualizations in Python.\n",
    "Seaborn: Data visualization library based on Matplotlib, providing a high-level interface for drawing attractive statistical graphics.\n",
    "scikit-learn: Machine learning library providing tools for classification, regression, clustering, dimensionality reduction, and more.\n",
    "TensorFlow: Deep learning framework developed by Google, used for building and training neural networks.\n",
    "Keras: High-level neural networks API, capable of running on top of TensorFlow, Theano, or Microsoft Cognitive Toolkit (CNTK).\n",
    "PyTorch: Deep learning framework developed by Facebook's AI Research lab, known for its dynamic computation graphs and ease of use.\n",
    "SciPy: Scientific computing library, built on top of NumPy, providing functions for optimization, integration, interpolation, and more.\n",
    "Statsmodels: Statistical modeling and hypothesis testing library, offering tools for regression analysis, time-series analysis, and more.\n",
    "\n",
    "\n",
    "\n",
    "These libraries are widely used in the data science community for various tasks related to data manipulation, analysis, visualization, machine learning, and statistical modeling"
   ]
  },
  {
   "cell_type": "raw",
   "metadata": {},
   "source": [
    "Data Science Tools"
   ]
  },
  {
   "cell_type": "markdown",
   "metadata": {},
   "source": [
    "Below are a few examples of evaluating arithmetic expressions in Python"
   ]
  },
  {
   "cell_type": "code",
   "execution_count": 1,
   "metadata": {
    "tags": []
   },
   "outputs": [
    {
     "data": {
      "text/plain": [
       "17"
      ]
     },
     "execution_count": 1,
     "metadata": {},
     "output_type": "execute_result"
    }
   ],
   "source": [
    "#This a simple arithmetic expression to mutiply then add integers\n",
    "(3*4)+5\n"
   ]
  },
  {
   "cell_type": "code",
   "execution_count": 3,
   "metadata": {
    "tags": []
   },
   "outputs": [
    {
     "data": {
      "text/plain": [
       "3.3333333333333335"
      ]
     },
     "execution_count": 3,
     "metadata": {},
     "output_type": "execute_result"
    }
   ],
   "source": [
    "#This will convert 200 minutes to hours by diving by 60.\n",
    "#200 minutes// into hours\n",
    "200/60"
   ]
  },
  {
   "cell_type": "code",
   "execution_count": null,
   "metadata": {},
   "outputs": [],
   "source": []
  }
 ],
 "metadata": {
  "kernelspec": {
   "display_name": "Python",
   "language": "python",
   "name": "conda-env-python-py"
  },
  "language_info": {
   "codemirror_mode": {
    "name": "ipython",
    "version": 3
   },
   "file_extension": ".py",
   "mimetype": "text/x-python",
   "name": "python",
   "nbconvert_exporter": "python",
   "pygments_lexer": "ipython3",
   "version": "3.7.12"
  }
 },
 "nbformat": 4,
 "nbformat_minor": 4
}
